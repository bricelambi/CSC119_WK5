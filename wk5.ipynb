{
 "cells": [
  {
   "cell_type": "code",
   "execution_count": 1,
   "metadata": {},
   "outputs": [
    {
     "name": "stdout",
     "output_type": "stream",
     "text": [
      "hello there, i'm a python program, thanks\n",
      "hello there, i'm a python program, thanks and keep using python\n"
     ]
    }
   ],
   "source": [
    "my_string = \"hello there, i'm a python program, thanks\"\n",
    "\n",
    "new_string = my_string + \" and keep using python\"\n",
    "print(my_string)\n",
    "print(new_string)\n",
    "\n"
   ]
  },
  {
   "cell_type": "code",
   "execution_count": 8,
   "metadata": {},
   "outputs": [
    {
     "name": "stdout",
     "output_type": "stream",
     "text": [
      ",lat lon,valid time,DewPointFahrenheit,DominantType,DryBulbFahrenheit,HourlyPrecip,RelativeHumidity,SkyCondition,Visibility,WeatherType,WetBulbFahrenheit,WindDirection,WindGust,WindSpeed,APCP,SNOD,SNOW,day\n",
      "\n",
      "['', 'lat lon', 'valid time', 'DewPointFahrenheit', 'DominantType', 'DryBulbFahrenheit', 'HourlyPrecip', 'RelativeHumidity', 'SkyCondition', 'Visibility', 'WeatherType', 'WetBulbFahrenheit', 'WindDirection', 'WindGust', 'WindSpeed', 'APCP', 'SNOD', 'SNOW', 'day\\n']\n"
     ]
    }
   ],
   "source": [
    "with open(\"US_points_hourly_CST.csv\") as f:\n",
    "    header = f.readline() # read first line as header, column names separated by comma\n",
    "    header_names = header.split(\",\") # list of columns\n",
    "    print(header)\n",
    "    print(header_names)\n",
    "\n",
    "            "
   ]
  },
  {
   "cell_type": "code",
   "execution_count": 13,
   "metadata": {},
   "outputs": [
    {
     "name": "stdout",
     "output_type": "stream",
     "text": [
      "3.252159873188406\n"
     ]
    }
   ],
   "source": [
    "\n",
    "csv_data = {} #empty dict to store our data\n",
    "with open(\"US_points_hourly_CST.csv\") as f:\n",
    "    header = f.readline() # read first line as header, column names separated by comma\n",
    "    header_names = header.split(\",\") # list of columns\n",
    "    num_columns = len(header_names)\n",
    "    for line in f.readlines(): # read the rest of the file\n",
    "        values = line.split(\",\") # split each line by commas\n",
    "        for i in range(num_columns): # now loop over each value\n",
    "            column_name = header_names[i] # \n",
    "            value = values[i]\n",
    "            if not column_name in csv_data:\n",
    "                # if this column_name isn't in our dictionary,\n",
    "                # add it as an empty list\n",
    "                csv_data[column_name] = []\n",
    "            csv_data[column_name].append(value)\n",
    "\n",
    "#print(csv_data['WindSpeed'])\n",
    "\n",
    "avg_wind_speed = sum([float(v) for v in csv_data['WindSpeed']]) / len(csv_data['WindSpeed'])\n",
    "print(avg_wind_speed)"
   ]
  },
  {
   "cell_type": "code",
   "execution_count": 14,
   "metadata": {},
   "outputs": [
    {
     "name": "stdout",
     "output_type": "stream",
     "text": [
      "0       2.807\n",
      "1       1.725\n",
      "2       1.935\n",
      "3       6.872\n",
      "4       2.795\n",
      "        ...  \n",
      "2203    5.311\n",
      "2204    4.114\n",
      "2205    3.435\n",
      "2206    2.877\n",
      "2207    5.640\n",
      "Name: WindSpeed, Length: 2208, dtype: float64\n",
      "3.252159873188406\n"
     ]
    }
   ],
   "source": [
    "\n",
    "import pandas as pd\n",
    "\n",
    "data = pd.read_csv(\"US_points_hourly_CST.csv\")\n",
    "\n",
    "print(data['WindSpeed'])\n",
    "\n",
    "avg_wind_speed = sum(data['WindSpeed']) / len(data['WindSpeed'])\n",
    "\n",
    "print(avg_wind_speed)\n"
   ]
  },
  {
   "cell_type": "code",
   "execution_count": null,
   "metadata": {},
   "outputs": [],
   "source": []
  }
 ],
 "metadata": {
  "kernelspec": {
   "display_name": "Python 3",
   "language": "python",
   "name": "python3"
  },
  "language_info": {
   "codemirror_mode": {
    "name": "ipython",
    "version": 3
   },
   "file_extension": ".py",
   "mimetype": "text/x-python",
   "name": "python",
   "nbconvert_exporter": "python",
   "pygments_lexer": "ipython3",
   "version": "3.8.2"
  }
 },
 "nbformat": 4,
 "nbformat_minor": 4
}
